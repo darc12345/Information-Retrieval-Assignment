{
 "cells": [
  {
   "cell_type": "code",
   "execution_count": 2,
   "id": "5fd6c04d",
   "metadata": {},
   "outputs": [],
   "source": [
    "from IPython.display import display, HTML\n",
    "import json\n",
    "import os\n",
    "import numpy\n",
    "from tqdm import tqdm\n",
    "import warnings\n",
    "import pandas as pd\n",
    "import json"
   ]
  },
  {
   "cell_type": "code",
   "execution_count": 3,
   "id": "3ee7d4e4",
   "metadata": {},
   "outputs": [
    {
     "name": "stderr",
     "output_type": "stream",
     "text": [
      "/home/darryl-chandra/Documents/information-retrieval/.venv/lib/python3.12/site-packages/tqdm/auto.py:21: TqdmWarning: IProgress not found. Please update jupyter and ipywidgets. See https://ipywidgets.readthedocs.io/en/stable/user_install.html\n",
      "  from .autonotebook import tqdm as notebook_tqdm\n"
     ]
    }
   ],
   "source": [
    "# Load model directly\n",
    "from transformers import AutoTokenizer, AutoModelForMaskedLM\n",
    "\n",
    "tokenizer = AutoTokenizer.from_pretrained(\"medicalai/ClinicalBERT\")\n",
    "model = AutoModelForMaskedLM.from_pretrained(\"medicalai/ClinicalBERT\")"
   ]
  },
  {
   "cell_type": "code",
   "execution_count": 4,
   "id": "4a8ce31c",
   "metadata": {},
   "outputs": [],
   "source": [
    "def show_query(query):\n",
    "    \"\"\"HTML print format for the searched query\"\"\"\n",
    "    return HTML('<br/><div style=\"font-family: Times New Roman; font-size: 20px;'\n",
    "                'padding-bottom:12px\"><b>Query</b>: '+query+'</div>')\n",
    "\n",
    "def show_document(idx, doc):\n",
    "    \"\"\"HTML print format for document fields\"\"\"\n",
    "    have_body_text = 'body_text' in json.loads(doc.raw)\n",
    "    body_text = ' Full text available.' if have_body_text else ''\n",
    "    return HTML('<div style=\"font-family: Times New Roman; font-size: 18px; padding-bottom:10px\">' + \n",
    "               f'<b>Document {idx}:</b> {doc.docid} ({doc.score:1.2f}) -- ' +\n",
    "               f'{doc.lucene_document.get(\"authors\")} et al. ' +\n",
    "             # f'{doc.lucene_document.get(\"journal\")}. ' +\n",
    "             # f'{doc.lucene_document.get(\"publish_time\")}. ' +\n",
    "               f'{doc.lucene_document.get(\"title\")}. ' +\n",
    "               f'<a href=\"https://doi.org/{doc.lucene_document.get(\"doi\")}\">{doc.lucene_document.get(\"doi\")}</a>.'\n",
    "               + f'{body_text}</div>')\n",
    "\n",
    "def show_query_results(query, searcher, top_k=10):\n",
    "    \"\"\"HTML print format for the searched query\"\"\"\n",
    "    hits = searcher.search(query)\n",
    "    display(show_query(query))\n",
    "    for i, hit in enumerate(hits[:top_k]):\n",
    "        display(show_document(i+1, hit))\n",
    "    return hits[:top_k]   "
   ]
  },
  {
   "cell_type": "code",
   "execution_count": 6,
   "id": "1a48460c",
   "metadata": {},
   "outputs": [
    {
     "name": "stdout",
     "output_type": "stream",
     "text": [
      "openjdk version \"21.0.8\" 2025-07-15\n",
      "OpenJDK Runtime Environment (build 21.0.8+9-Ubuntu-0ubuntu124.04.1)\n",
      "OpenJDK 64-Bit Server VM (build 21.0.8+9-Ubuntu-0ubuntu124.04.1, mixed mode, sharing)\n"
     ]
    }
   ],
   "source": [
    "# CHeck java version\n",
    "!java -version"
   ]
  },
  {
   "cell_type": "code",
   "execution_count": null,
   "id": "aeb8a559",
   "metadata": {},
   "outputs": [
    {
     "ename": "JavaException",
     "evalue": "JVM exception occurred: java.lang.IllegalArgumentException: reformatted_data.jsonl does not exist or is not a directory.\njava.lang.IllegalArgumentException: reformatted_data.jsonl does not exist or is not a directory.\n\tio.anserini.search.SimpleSearcher.<init>(SimpleSearcher.java:126)\n\tio.anserini.search.SimpleSearcher.<init>(SimpleSearcher.java:119)",
     "output_type": "error",
     "traceback": [
      "\u001b[31m---------------------------------------------------------------------------\u001b[39m",
      "\u001b[31mJavaException\u001b[39m                             Traceback (most recent call last)",
      "\u001b[36mCell\u001b[39m\u001b[36m \u001b[39m\u001b[32mIn[9]\u001b[39m\u001b[32m, line 3\u001b[39m\n\u001b[32m      1\u001b[39m \u001b[38;5;28;01mfrom\u001b[39;00m\u001b[38;5;250m \u001b[39m\u001b[34;01mpyserini\u001b[39;00m\u001b[34;01m.\u001b[39;00m\u001b[34;01msearch\u001b[39;00m\u001b[38;5;250m \u001b[39m\u001b[38;5;28;01mimport\u001b[39;00m pysearch\n\u001b[32m----> \u001b[39m\u001b[32m3\u001b[39m searcher = \u001b[43mpysearch\u001b[49m\u001b[43m.\u001b[49m\u001b[43mSimpleSearcher\u001b[49m\u001b[43m(\u001b[49m\u001b[33;43m'\u001b[39;49m\u001b[33;43mreformatted_data.jsonl\u001b[39;49m\u001b[33;43m'\u001b[39;49m\u001b[43m)\u001b[49m\n",
      "\u001b[36mFile \u001b[39m\u001b[32m~/Documents/information-retrieval/.venv/lib/python3.12/site-packages/pyserini/search/pysearch.py:59\u001b[39m, in \u001b[36mSimpleSearcher.__init__\u001b[39m\u001b[34m(self, index_dir)\u001b[39m\n\u001b[32m     58\u001b[39m \u001b[38;5;28;01mdef\u001b[39;00m\u001b[38;5;250m \u001b[39m\u001b[34m__init__\u001b[39m(\u001b[38;5;28mself\u001b[39m, index_dir: \u001b[38;5;28mstr\u001b[39m):\n\u001b[32m---> \u001b[39m\u001b[32m59\u001b[39m     \u001b[38;5;28mself\u001b[39m.object = \u001b[43mJSearcher\u001b[49m\u001b[43m(\u001b[49m\u001b[43mJString\u001b[49m\u001b[43m(\u001b[49m\u001b[43mindex_dir\u001b[49m\u001b[43m)\u001b[49m\u001b[43m)\u001b[49m\n",
      "\u001b[36mFile \u001b[39m\u001b[32mjnius/jnius_export_class.pxi:285\u001b[39m, in \u001b[36mjnius.JavaClass.__init__\u001b[39m\u001b[34m()\u001b[39m\n",
      "\u001b[36mFile \u001b[39m\u001b[32mjnius/jnius_export_class.pxi:403\u001b[39m, in \u001b[36mjnius.JavaClass.call_constructor\u001b[39m\u001b[34m()\u001b[39m\n",
      "\u001b[36mFile \u001b[39m\u001b[32mjnius/jnius_utils.pxi:79\u001b[39m, in \u001b[36mjnius.check_exception\u001b[39m\u001b[34m()\u001b[39m\n",
      "\u001b[31mJavaException\u001b[39m: JVM exception occurred: java.lang.IllegalArgumentException: reformatted_data.jsonl does not exist or is not a directory.\njava.lang.IllegalArgumentException: reformatted_data.jsonl does not exist or is not a directory.\n\tio.anserini.search.SimpleSearcher.<init>(SimpleSearcher.java:126)\n\tio.anserini.search.SimpleSearcher.<init>(SimpleSearcher.java:119)"
     ]
    }
   ],
   "source": [
    "from pyserini.search import pysearch\n",
    "\n",
    "searcher = pysearch.SimpleSearcher('reformatted_data.jsonl')\n"
   ]
  }
 ],
 "metadata": {
  "kernelspec": {
   "display_name": ".venv",
   "language": "python",
   "name": "python3"
  },
  "language_info": {
   "codemirror_mode": {
    "name": "ipython",
    "version": 3
   },
   "file_extension": ".py",
   "mimetype": "text/x-python",
   "name": "python",
   "nbconvert_exporter": "python",
   "pygments_lexer": "ipython3",
   "version": "3.12.3"
  }
 },
 "nbformat": 4,
 "nbformat_minor": 5
}
